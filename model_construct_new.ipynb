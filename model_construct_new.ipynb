{
 "cells": [
  {
   "cell_type": "code",
   "execution_count": null,
   "id": "a766683e",
   "metadata": {},
   "outputs": [],
   "source": [
    "import findspark\n",
    "findspark.init()\n",
    "from pyspark.sql import SparkSession\n",
    "#spark = SparkSession.builder.master(\"local[*]\").getOrCreate()\n",
    "spark = SparkSession.builder.appName('Basic').getOrCreate()\n",
    "spark.conf.set(\"spark.sql.repl.eagerEval.enabled\", True) # Property used to format output tables better\n",
    "spark"
   ]
  },
  {
   "cell_type": "code",
   "execution_count": null,
   "id": "6c765267",
   "metadata": {},
   "outputs": [],
   "source": [
    "from pyspark.ml.linalg import Vectors\n",
    "from pyspark.ml.feature import VectorAssembler\n",
    "from pyspark.ml.regression import LinearRegression\n",
    "from pyspark.ml.regression import LinearRegressionModel\n",
    "import pandas as pd"
   ]
  },
  {
   "cell_type": "code",
   "execution_count": null,
   "id": "f606ab22",
   "metadata": {},
   "outputs": [],
   "source": [
    "try: \n",
    "    path = input(\"File path: \")\n",
    "    filetype = input(\"File type: \")\n",
    "    df = spark.read.load(path, format=filetype, inferSchema=True, header=True)\n",
    "except(ValueError, FileNotFoundError):\n",
    "    print(\"You did not enter valid inputs.\")"
   ]
  },
  {
   "cell_type": "code",
   "execution_count": null,
   "id": "f81a7755",
   "metadata": {},
   "outputs": [],
   "source": [
    "df.printSchema()"
   ]
  },
  {
   "cell_type": "code",
   "execution_count": null,
   "id": "55c2a7ab",
   "metadata": {},
   "outputs": [],
   "source": [
    "df.head()"
   ]
  },
  {
   "cell_type": "code",
   "execution_count": null,
   "id": "d4accdd5",
   "metadata": {},
   "outputs": [],
   "source": [
    "df.columns"
   ]
  },
  {
   "cell_type": "code",
   "execution_count": null,
   "id": "bac90065",
   "metadata": {},
   "outputs": [],
   "source": [
    "num_features = input(\"Number of features: \")"
   ]
  },
  {
   "cell_type": "code",
   "execution_count": null,
   "id": "8434e92c",
   "metadata": {},
   "outputs": [],
   "source": [
    "coef_var = []\n",
    "for i in range(int(num_features)):\n",
    "    coef_var.append(input(\"Feature name: \"))\n",
    "assembler = VectorAssembler(inputCols=coef_var, outputCol='features')"
   ]
  },
  {
   "cell_type": "code",
   "execution_count": null,
   "id": "9c07fc71",
   "metadata": {},
   "outputs": [],
   "source": [
    "output = assembler.setHandleInvalid('skip').transform(df) \n",
    "#setHandleInvalid skip flag lets it skip null rows instead of having an error"
   ]
  },
  {
   "cell_type": "code",
   "execution_count": null,
   "id": "cbbd1148",
   "metadata": {},
   "outputs": [],
   "source": [
    "output_col = input(\"Output column: \")"
   ]
  },
  {
   "cell_type": "code",
   "execution_count": null,
   "id": "f4a3da91",
   "metadata": {},
   "outputs": [],
   "source": [
    "final_df = output.select('features', output_col)"
   ]
  },
  {
   "cell_type": "code",
   "execution_count": null,
   "id": "aeb73c95",
   "metadata": {},
   "outputs": [],
   "source": [
    "train_data, test_data = final_df.randomSplit([0.7,0.3])"
   ]
  },
  {
   "cell_type": "code",
   "execution_count": null,
   "id": "81233672",
   "metadata": {},
   "outputs": [],
   "source": [
    "lm = LinearRegression(labelCol=output_col)"
   ]
  },
  {
   "cell_type": "code",
   "execution_count": null,
   "id": "ba65ad48",
   "metadata": {},
   "outputs": [],
   "source": [
    "model = lm.fit(train_data)"
   ]
  },
  {
   "cell_type": "code",
   "execution_count": null,
   "id": "93132897",
   "metadata": {},
   "outputs": [],
   "source": [
    "pd.DataFrame({\"Coefficients\":model.coefficients}, index=coef_var)"
   ]
  },
  {
   "cell_type": "code",
   "execution_count": null,
   "id": "517edef2",
   "metadata": {},
   "outputs": [],
   "source": [
    "res = model.evaluate(test_data)"
   ]
  },
  {
   "cell_type": "code",
   "execution_count": null,
   "id": "a41af238",
   "metadata": {},
   "outputs": [],
   "source": [
    "res.residuals.show()"
   ]
  },
  {
   "cell_type": "code",
   "execution_count": null,
   "id": "53f28460",
   "metadata": {},
   "outputs": [],
   "source": [
    "unlabeled_data = test_data.select('features')"
   ]
  },
  {
   "cell_type": "code",
   "execution_count": null,
   "id": "93328514",
   "metadata": {},
   "outputs": [],
   "source": [
    "predictions = model.transform(unlabeled_data)"
   ]
  },
  {
   "cell_type": "code",
   "execution_count": null,
   "id": "fd816146",
   "metadata": {},
   "outputs": [],
   "source": [
    "predictions.show()"
   ]
  },
  {
   "cell_type": "code",
   "execution_count": null,
   "id": "0bfc2635",
   "metadata": {},
   "outputs": [],
   "source": [
    "print(\"MAE: \", res.meanAbsoluteError)\n",
    "print(\"MSE: \", res.meanSquaredError)\n",
    "print(\"RMSE: \", res.rootMeanSquaredError)\n",
    "print(\"R2: \", res.r2)\n",
    "print(\"Adj R2: \", res.r2adj)"
   ]
  },
  {
   "cell_type": "code",
   "execution_count": null,
   "id": "1670dc61",
   "metadata": {
    "scrolled": true
   },
   "outputs": [],
   "source": [
    "model.save(\"model\")"
   ]
  }
 ],
 "metadata": {
  "kernelspec": {
   "display_name": "Python 3",
   "language": "python",
   "name": "python3"
  },
  "language_info": {
   "codemirror_mode": {
    "name": "ipython",
    "version": 3
   },
   "file_extension": ".py",
   "mimetype": "text/x-python",
   "name": "python",
   "nbconvert_exporter": "python",
   "pygments_lexer": "ipython3",
   "version": "3.8.8"
  }
 },
 "nbformat": 4,
 "nbformat_minor": 5
}
