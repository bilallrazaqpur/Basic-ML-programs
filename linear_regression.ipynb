{
 "cells": [
  {
   "cell_type": "code",
   "execution_count": null,
   "id": "a634a6da",
   "metadata": {},
   "outputs": [],
   "source": [
    "#Simple ML Python program"
   ]
  },
  {
   "cell_type": "code",
   "execution_count": 1,
   "id": "bbe334f1",
   "metadata": {},
   "outputs": [],
   "source": [
    "#Import dependencies\n",
    "from sklearn.linear_model import LinearRegression\n",
    "import random"
   ]
  },
  {
   "cell_type": "code",
   "execution_count": 2,
   "id": "a3c8d905",
   "metadata": {},
   "outputs": [],
   "source": [
    "#Create sets\n",
    "feature_set = []\n",
    "target_set = []"
   ]
  },
  {
   "cell_type": "code",
   "execution_count": 3,
   "id": "19926c83",
   "metadata": {},
   "outputs": [],
   "source": [
    "#Set parameters\n",
    "num_rows = 200\n",
    "random_number_limit = 2000"
   ]
  },
  {
   "cell_type": "code",
   "execution_count": 5,
   "id": "87428f36",
   "metadata": {},
   "outputs": [],
   "source": [
    "#Set values\n",
    "for i in range(num_rows):\n",
    "    x = random.randint(0, random_number_limit)\n",
    "    y = random.randint(0, random_number_limit)\n",
    "    z = random.randint(0, random_number_limit)\n",
    "    \n",
    "    function = (10*x) + (2*y) + (3*z)\n",
    "    feature_set.append([x,y,z])\n",
    "    target_set.append(function)"
   ]
  },
  {
   "cell_type": "code",
   "execution_count": 6,
   "id": "2cd6b6b9",
   "metadata": {},
   "outputs": [
    {
     "data": {
      "text/plain": [
       "LinearRegression()"
      ]
     },
     "execution_count": 6,
     "metadata": {},
     "output_type": "execute_result"
    }
   ],
   "source": [
    "#Create model\n",
    "model = LinearRegression()\n",
    "model.fit(feature_set, target_set)"
   ]
  },
  {
   "cell_type": "code",
   "execution_count": 7,
   "id": "77f37052",
   "metadata": {},
   "outputs": [],
   "source": [
    "#Create prediction\n",
    "test_set = [[8,10,0]]\n",
    "prediction = model.predict(test_set)"
   ]
  },
  {
   "cell_type": "code",
   "execution_count": 10,
   "id": "633972b6",
   "metadata": {},
   "outputs": [
    {
     "name": "stdout",
     "output_type": "stream",
     "text": [
      "Prediction: [100.] Coefficients: [10.  2.  3.]\n"
     ]
    }
   ],
   "source": [
    "#Test prediction\n",
    "print('Prediction: '+str(prediction)+' Coefficients: '+str(model.coef_))"
   ]
  }
 ],
 "metadata": {
  "kernelspec": {
   "display_name": "Python 3",
   "language": "python",
   "name": "python3"
  },
  "language_info": {
   "codemirror_mode": {
    "name": "ipython",
    "version": 3
   },
   "file_extension": ".py",
   "mimetype": "text/x-python",
   "name": "python",
   "nbconvert_exporter": "python",
   "pygments_lexer": "ipython3",
   "version": "3.8.8"
  }
 },
 "nbformat": 4,
 "nbformat_minor": 5
}
